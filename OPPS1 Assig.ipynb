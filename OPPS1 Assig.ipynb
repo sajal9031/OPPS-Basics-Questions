{
 "cells": [
  {
   "cell_type": "markdown",
   "id": "1f2733d0-9592-4f07-bc29-4a2b50c13d3f",
   "metadata": {},
   "source": [
    "1.) Explain Class and Object with respect to Object-Oriented Programming. Give a suitable example."
   ]
  },
  {
   "cell_type": "markdown",
   "id": "132ed251-85a6-41cb-85e0-08b1d57e9694",
   "metadata": {},
   "source": [
    "In Object-Oriented Programming (OOP), a class is a blueprint or a template that describes the attributes (data) and behaviors (methods) that an object of that class will have. It defines the common characteristics of a group of objects. An object, on the other hand, is an instance of a class. It is a specific representation of a class with its own set of data and behaviors.\n",
    "\n",
    "Let's take an example of a class and object to understand this better. Suppose we have a class called \"Person\" which has attributes such as \"name,\" \"age,\" and \"gender,\" and behaviors such as \"walk\" and \"talk.\" This class defines the common characteristics and behaviors of a person.\n",
    "\n",
    "To create an object of this class, we use the class as a blueprint and create an instance of it. For example, we can create an object \"John\" of class \"Person\" with the name \"John,\" age \"25,\" and gender \"Male.\" John will have his own set of data and behaviors, which can be accessed using the dot notation. For instance, we can access John's age by typing \"John.age.\"\n",
    "\n",
    "\n",
    "\n"
   ]
  },
  {
   "cell_type": "code",
   "execution_count": 3,
   "id": "fdd6ad4a-a214-488a-880e-25e96f23c3cd",
   "metadata": {},
   "outputs": [
    {
     "name": "stdout",
     "output_type": "stream",
     "text": [
      "sajal\n",
      "25\n",
      "sajal is walking.\n",
      "sajal is talking.\n"
     ]
    }
   ],
   "source": [
    "class Person:\n",
    "    def __init__(self, name, age, gender):\n",
    "        self.name = name\n",
    "        self.age = age\n",
    "        self.gender = gender\n",
    "        \n",
    "    def walk(self):\n",
    "        print(self.name, \"is walking.\")\n",
    "        \n",
    "    def talk(self):\n",
    "        print(self.name, \"is talking.\")\n",
    "        \n",
    "# Creating an object of the class \"Person\"\n",
    "sajal = Person(\"sajal\", 25, \"Male\")\n",
    "\n",
    "# Accessing the data and behaviors of the object \"John\"\n",
    "print(sajal.name)\n",
    "print(sajal.age)\n",
    "sajal.walk()\n",
    "sajal.talk()"
   ]
  },
  {
   "cell_type": "code",
   "execution_count": null,
   "id": "33287394-0e75-410f-97e0-ea728cd33e45",
   "metadata": {},
   "outputs": [],
   "source": []
  },
  {
   "cell_type": "markdown",
   "id": "dae08f7c-7c1c-475c-a9da-6b45be9ff4bd",
   "metadata": {},
   "source": [
    "2.) Name the four pillars of OOPs."
   ]
  },
  {
   "cell_type": "markdown",
   "id": "8837a3a2-df9c-4356-b9a8-eb0cbb4e1023",
   "metadata": {},
   "source": [
    "The four pillars of Object-Oriented Programming (OOPs) are:\n",
    "\n",
    "Encapsulation: Encapsulation is the practice of grouping related data and behavior together into a single unit, and then controlling access to that unit. In other words, it is the mechanism that allows an object to hide its internal implementation details from the outside world and only reveal what is necessary to use it. Encapsulation helps in making the code more secure and maintainable.\n",
    "\n",
    "Abstraction: Abstraction is the process of identifying the essential characteristics of an object, and ignoring the irrelevant details. In other words, it is the mechanism that allows us to focus on the important features of an object, without worrying about how those features are implemented. Abstraction helps in reducing complexity and increasing efficiency.\n",
    "\n",
    "Inheritance: Inheritance is the mechanism that allows a new class to be based on an existing class, inheriting all the properties of the existing class, and adding new properties or modifying the existing ones. Inheritance helps in reducing code duplication, increasing code reusability, and making the code more scalable.\n",
    "\n",
    "Polymorphism: Polymorphism is the ability of objects of different classes to be used interchangeably, i.e., to take on multiple forms. In other words, it is the mechanism that allows a single function or method to be used with different types of objects. Polymorphism helps in increasing code flexibility, making the code more adaptable to changes, and reducing code complexity."
   ]
  },
  {
   "cell_type": "code",
   "execution_count": null,
   "id": "73baf8cd-ff8a-419a-a1a7-808f0ed2b79e",
   "metadata": {},
   "outputs": [],
   "source": []
  },
  {
   "cell_type": "markdown",
   "id": "a5911108-1a88-47bf-a39b-1ec5bdf6fc9b",
   "metadata": {},
   "source": [
    "3.) Explain why the __init__() function is used. Give a suitable example."
   ]
  },
  {
   "cell_type": "markdown",
   "id": "0cba5c80-2ff6-44b1-b224-491367a7ee5b",
   "metadata": {},
   "source": [
    "In Python, the __init__() function is a special method that is called automatically when an object of a class is created. It is used to initialize the attributes of the object, i.e., to assign values to the instance variables of the object.\n",
    "\n",
    "The __init__() function is a constructor method, and it is used to ensure that the object is in a valid and usable state as soon as it is created. It takes the self parameter, which refers to the object being created, and any additional parameters that need to be passed when creating the object."
   ]
  },
  {
   "cell_type": "code",
   "execution_count": 4,
   "id": "fc69f9c3-9410-494f-811f-2aba47980400",
   "metadata": {},
   "outputs": [
    {
     "name": "stdout",
     "output_type": "stream",
     "text": [
      "Toyota\n",
      "Camry\n",
      "2022\n",
      "Blue\n",
      "The car is moving at 10 mph.\n",
      "The car is moving at 20 mph.\n",
      "The car is moving at 10 mph.\n"
     ]
    }
   ],
   "source": [
    "class Car:\n",
    "    def __init__(self, make, model, year, color):\n",
    "        self.make = make\n",
    "        self.model = model\n",
    "        self.year = year\n",
    "        self.color = color\n",
    "        self.speed = 0\n",
    "\n",
    "    def accelerate(self):\n",
    "        self.speed += 10\n",
    "        print(\"The car is moving at\", self.speed, \"mph.\")\n",
    "\n",
    "    def brake(self):\n",
    "        self.speed -= 10\n",
    "        print(\"The car is moving at\", self.speed, \"mph.\")\n",
    "\n",
    "# Creating an object of the class \"Car\"\n",
    "my_car = Car(\"Toyota\", \"Camry\", 2022, \"Blue\")\n",
    "\n",
    "# Accessing the data and behaviors of the object \"my_car\"\n",
    "print(my_car.make)\n",
    "print(my_car.model)\n",
    "print(my_car.year)\n",
    "print(my_car.color)\n",
    "\n",
    "# Using the methods of the object \"my_car\"\n",
    "my_car.accelerate()\n",
    "my_car.accelerate()\n",
    "my_car.brake()"
   ]
  },
  {
   "cell_type": "code",
   "execution_count": null,
   "id": "f0e8a68f-1215-46d3-a272-ff05a4badcbc",
   "metadata": {},
   "outputs": [],
   "source": []
  },
  {
   "cell_type": "markdown",
   "id": "5d35251f-8eb3-4ecd-acdf-4a12ed5488cd",
   "metadata": {},
   "source": [
    "4.)Why self is used in OOPs?"
   ]
  },
  {
   "cell_type": "markdown",
   "id": "67667116-26d8-4feb-9fb9-fa1ad8041219",
   "metadata": {},
   "source": [
    "In object-oriented programming (OOP), the self keyword is used to refer to the current instance of a class. The self parameter is the first parameter of every method in a class and is automatically passed to the method when the method is called.\n",
    "\n",
    "The use of self is important because it allows an instance of a class to access its own attributes and methods. When a method is called on an instance of a class, the self parameter refers to that instance, so the method can access and manipulate the instance's attributes and call its own methods."
   ]
  },
  {
   "cell_type": "code",
   "execution_count": null,
   "id": "5e4d391e-815c-4800-afb1-16048f03c231",
   "metadata": {},
   "outputs": [],
   "source": []
  },
  {
   "cell_type": "markdown",
   "id": "f7bcaf27-8222-4255-a102-26282db09feb",
   "metadata": {},
   "source": [
    "5.) What is inheritance? Give an example for each type of inheritance."
   ]
  },
  {
   "cell_type": "markdown",
   "id": "43e65701-0586-42ea-bc93-1b7742289e5d",
   "metadata": {},
   "source": [
    "In object-oriented programming, inheritance is a mechanism that allows a new class to be based on an existing class, inheriting its properties and behavior. The existing class is called the base or parent class, and the new class is called the derived or child class.\n",
    "\n",
    "There are four types of inheritance:\n",
    "\n",
    "Single Inheritance: In this type of inheritance, a derived class is derived from a single base class.\n",
    "Example:"
   ]
  },
  {
   "cell_type": "code",
   "execution_count": 6,
   "id": "706a519b-a048-463e-9bc0-7ebbedb12c65",
   "metadata": {},
   "outputs": [],
   "source": [
    "class Animal:\n",
    "    def __init__(self, name):\n",
    "        self.name = name\n",
    "\n",
    "    def speak(self):\n",
    "        pass\n",
    "\n",
    "class Dog(Animal):\n",
    "    def speak(self):\n",
    "        return \"Woof!\""
   ]
  },
  {
   "cell_type": "markdown",
   "id": "56889e36-027f-47a5-9df5-cbdaa528a440",
   "metadata": {},
   "source": [
    "In the above example, the Dog class is derived from the Animal class, which has a method called speak. The Dog class overrides the speak method to return \"Woof!\" when called."
   ]
  },
  {
   "cell_type": "markdown",
   "id": "b56d3154-dc6b-4162-a92e-c7c9839bd152",
   "metadata": {},
   "source": [
    "Multiple Inheritance: In this type of inheritance, a derived class is derived from two or more base classes.\n",
    "Example:"
   ]
  },
  {
   "cell_type": "code",
   "execution_count": 7,
   "id": "3ce904fa-cd1c-44a9-8680-80e3b28b1dc0",
   "metadata": {},
   "outputs": [],
   "source": [
    "class Flying:\n",
    "    def fly(self):\n",
    "        return \"I am flying!\"\n",
    "\n",
    "class Bird(Animal, Flying):\n",
    "    pass"
   ]
  },
  {
   "cell_type": "markdown",
   "id": "6b360a4f-a16c-485f-af60-a66321523681",
   "metadata": {},
   "source": [
    "In the above example, the Bird class is derived from both the Animal and Flying classes. The Bird class inherits the name property and the speak method from the Animal class, as well as the fly method from the Flying class."
   ]
  },
  {
   "cell_type": "markdown",
   "id": "eb47710f-dc1b-4106-9a91-576fd740f4b7",
   "metadata": {},
   "source": [
    "Multilevel Inheritance: In this type of inheritance, a derived class is derived from a base class, which itself is derived from another base class.\n",
    "Example:\n",
    "\n"
   ]
  },
  {
   "cell_type": "code",
   "execution_count": 8,
   "id": "dd858b57-140f-4721-a3d2-79c0418061bc",
   "metadata": {},
   "outputs": [],
   "source": [
    "class Mammal(Animal):\n",
    "    def feed_babies(self):\n",
    "        pass\n",
    "\n",
    "class Cat(Mammal):\n",
    "    def speak(self):\n",
    "        return \"Meow!\""
   ]
  },
  {
   "cell_type": "markdown",
   "id": "60d88c5a-dd8c-457a-86c9-2541298e7761",
   "metadata": {},
   "source": [
    "In the above example, the Cat class is derived from the Mammal class, which itself is derived from the Animal class. The Cat class inherits the name property and the speak method from the Animal class, as well as the feed_babies method from the Mammal class."
   ]
  },
  {
   "cell_type": "code",
   "execution_count": null,
   "id": "88273880-7b4a-4314-a336-81c0022d8373",
   "metadata": {},
   "outputs": [],
   "source": [
    "Hierarchical Inheritance: In this type of inheritance, multiple derived classes are derived from a single base class."
   ]
  },
  {
   "cell_type": "code",
   "execution_count": 9,
   "id": "11d4093b-5bdc-4c29-8ef7-6d4d2a5db0c6",
   "metadata": {},
   "outputs": [],
   "source": [
    "class Fish(Animal):\n",
    "    def swim(self):\n",
    "        return \"I am swimming!\"\n",
    "\n",
    "class Shark(Fish):\n",
    "    def attack(self):\n",
    "        return \"I am attacking!\"\n",
    "\n",
    "class Clownfish(Fish):\n",
    "    def joke(self):\n",
    "        return \"Why did the fish cross the road? To get to the other tide!\"\n"
   ]
  },
  {
   "cell_type": "markdown",
   "id": "47624800-6b83-43dc-9a51-cc1a55b438e8",
   "metadata": {},
   "source": [
    "In this example, both the Shark and Clownfish classes are derived from the Fish class, which is itself derived from the Animal class. The Shark class has a method called attack, while the Clownfish class has a method called joke, but they both inherit the name property and the swim method from the Fish class, as well as the speak method from the Animal class."
   ]
  },
  {
   "cell_type": "code",
   "execution_count": null,
   "id": "168b451c-123a-49ac-9a42-8dd097eafbaf",
   "metadata": {},
   "outputs": [],
   "source": []
  }
 ],
 "metadata": {
  "kernelspec": {
   "display_name": "Python 3 (ipykernel)",
   "language": "python",
   "name": "python3"
  },
  "language_info": {
   "codemirror_mode": {
    "name": "ipython",
    "version": 3
   },
   "file_extension": ".py",
   "mimetype": "text/x-python",
   "name": "python",
   "nbconvert_exporter": "python",
   "pygments_lexer": "ipython3",
   "version": "3.10.8"
  }
 },
 "nbformat": 4,
 "nbformat_minor": 5
}
